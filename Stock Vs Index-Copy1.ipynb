{
 "cells": [
  {
   "cell_type": "code",
   "execution_count": 1,
   "metadata": {},
   "outputs": [],
   "source": [
    "import numpy as np\n",
    "import pandas as pd\n",
    "from pandas_datareader import data as wb\n",
    "import matplotlib.pyplot as plt\n",
    "%matplotlib inline"
   ]
  },
  {
   "cell_type": "code",
   "execution_count": 2,
   "metadata": {},
   "outputs": [],
   "source": [
    "assets = ['MSFT','^GSPC']\n",
    "df = pd.DataFrame()\n",
    "for a in assets:\n",
    "    df[a] = wb.DataReader(a, data_source = 'yahoo', start = '2010-01-01')['Adj Close']"
   ]
  },
  {
   "cell_type": "code",
   "execution_count": 3,
   "metadata": {},
   "outputs": [
    {
     "data": {
      "text/html": [
       "<div>\n",
       "<style scoped>\n",
       "    .dataframe tbody tr th:only-of-type {\n",
       "        vertical-align: middle;\n",
       "    }\n",
       "\n",
       "    .dataframe tbody tr th {\n",
       "        vertical-align: top;\n",
       "    }\n",
       "\n",
       "    .dataframe thead th {\n",
       "        text-align: right;\n",
       "    }\n",
       "</style>\n",
       "<table border=\"1\" class=\"dataframe\">\n",
       "  <thead>\n",
       "    <tr style=\"text-align: right;\">\n",
       "      <th></th>\n",
       "      <th>MSFT</th>\n",
       "      <th>^GSPC</th>\n",
       "    </tr>\n",
       "    <tr>\n",
       "      <th>Date</th>\n",
       "      <th></th>\n",
       "      <th></th>\n",
       "    </tr>\n",
       "  </thead>\n",
       "  <tbody>\n",
       "    <tr>\n",
       "      <th>2020-07-31</th>\n",
       "      <td>205.009995</td>\n",
       "      <td>3271.120117</td>\n",
       "    </tr>\n",
       "    <tr>\n",
       "      <th>2020-08-03</th>\n",
       "      <td>216.539993</td>\n",
       "      <td>3294.610107</td>\n",
       "    </tr>\n",
       "    <tr>\n",
       "      <th>2020-08-04</th>\n",
       "      <td>213.289993</td>\n",
       "      <td>3306.510010</td>\n",
       "    </tr>\n",
       "    <tr>\n",
       "      <th>2020-08-05</th>\n",
       "      <td>212.940002</td>\n",
       "      <td>3327.770020</td>\n",
       "    </tr>\n",
       "    <tr>\n",
       "      <th>2020-08-06</th>\n",
       "      <td>216.350006</td>\n",
       "      <td>3349.159912</td>\n",
       "    </tr>\n",
       "  </tbody>\n",
       "</table>\n",
       "</div>"
      ],
      "text/plain": [
       "                  MSFT        ^GSPC\n",
       "Date                               \n",
       "2020-07-31  205.009995  3271.120117\n",
       "2020-08-03  216.539993  3294.610107\n",
       "2020-08-04  213.289993  3306.510010\n",
       "2020-08-05  212.940002  3327.770020\n",
       "2020-08-06  216.350006  3349.159912"
      ]
     },
     "execution_count": 3,
     "metadata": {},
     "output_type": "execute_result"
    }
   ],
   "source": [
    "df.tail()"
   ]
  },
  {
   "cell_type": "code",
   "execution_count": 4,
   "metadata": {},
   "outputs": [
    {
     "data": {
      "text/plain": [
       "<matplotlib.axes._subplots.AxesSubplot at 0x1faa6a15948>"
      ]
     },
     "execution_count": 4,
     "metadata": {},
     "output_type": "execute_result"
    },
    {
     "data": {
      "image/png": "[encoded data removed]",
      "text/plain": [
       "<Figure size 720x360 with 1 Axes>"
      ]
     },
     "metadata": {
      "needs_background": "light"
     },
     "output_type": "display_data"
    }
   ],
   "source": [
    "(df/df.iloc[0]*100).plot(figsize = (10,5))"
   ]
  },
  {
   "cell_type": "code",
   "execution_count": 5,
   "metadata": {},
   "outputs": [],
   "source": [
    "log_returns = np.log(df/df.shift(1))"
   ]
  },
  {
   "cell_type": "code",
   "execution_count": 6,
   "metadata": {},
   "outputs": [
    {
     "data": {
      "text/html": [
       "<div>\n",
       "<style scoped>\n",
       "    .dataframe tbody tr th:only-of-type {\n",
       "        vertical-align: middle;\n",
       "    }\n",
       "\n",
       "    .dataframe tbody tr th {\n",
       "        vertical-align: top;\n",
       "    }\n",
       "\n",
       "    .dataframe thead th {\n",
       "        text-align: right;\n",
       "    }\n",
       "</style>\n",
       "<table border=\"1\" class=\"dataframe\">\n",
       "  <thead>\n",
       "    <tr style=\"text-align: right;\">\n",
       "      <th></th>\n",
       "      <th>MSFT</th>\n",
       "      <th>^GSPC</th>\n",
       "    </tr>\n",
       "    <tr>\n",
       "      <th>Date</th>\n",
       "      <th></th>\n",
       "      <th></th>\n",
       "    </tr>\n",
       "  </thead>\n",
       "  <tbody>\n",
       "    <tr>\n",
       "      <th>2009-12-31</th>\n",
       "      <td>NaN</td>\n",
       "      <td>NaN</td>\n",
       "    </tr>\n",
       "    <tr>\n",
       "      <th>2010-01-04</th>\n",
       "      <td>0.015302</td>\n",
       "      <td>0.015916</td>\n",
       "    </tr>\n",
       "    <tr>\n",
       "      <th>2010-01-05</th>\n",
       "      <td>0.000323</td>\n",
       "      <td>0.003111</td>\n",
       "    </tr>\n",
       "    <tr>\n",
       "      <th>2010-01-06</th>\n",
       "      <td>-0.006156</td>\n",
       "      <td>0.000545</td>\n",
       "    </tr>\n",
       "    <tr>\n",
       "      <th>2010-01-07</th>\n",
       "      <td>-0.010454</td>\n",
       "      <td>0.003993</td>\n",
       "    </tr>\n",
       "  </tbody>\n",
       "</table>\n",
       "</div>"
      ],
      "text/plain": [
       "                MSFT     ^GSPC\n",
       "Date                          \n",
       "2009-12-31       NaN       NaN\n",
       "2010-01-04  0.015302  0.015916\n",
       "2010-01-05  0.000323  0.003111\n",
       "2010-01-06 -0.006156  0.000545\n",
       "2010-01-07 -0.010454  0.003993"
      ]
     },
     "execution_count": 6,
     "metadata": {},
     "output_type": "execute_result"
    }
   ],
   "source": [
    "log_returns.head()"
   ]
  },
  {
   "cell_type": "code",
   "execution_count": 7,
   "metadata": {},
   "outputs": [
    {
     "data": {
      "text/plain": [
       "MSFT     0.206668\n",
       "^GSPC    0.103090\n",
       "dtype: float64"
      ]
     },
     "execution_count": 7,
     "metadata": {},
     "output_type": "execute_result"
    }
   ],
   "source": [
    "log_returns.mean() * 250"
   ]
  },
  {
   "cell_type": "code",
   "execution_count": 8,
   "metadata": {},
   "outputs": [
    {
     "data": {
      "text/html": [
       "<div>\n",
       "<style scoped>\n",
       "    .dataframe tbody tr th:only-of-type {\n",
       "        vertical-align: middle;\n",
       "    }\n",
       "\n",
       "    .dataframe tbody tr th {\n",
       "        vertical-align: top;\n",
       "    }\n",
       "\n",
       "    .dataframe thead th {\n",
       "        text-align: right;\n",
       "    }\n",
       "</style>\n",
       "<table border=\"1\" class=\"dataframe\">\n",
       "  <thead>\n",
       "    <tr style=\"text-align: right;\">\n",
       "      <th></th>\n",
       "      <th>MSFT</th>\n",
       "      <th>^GSPC</th>\n",
       "    </tr>\n",
       "  </thead>\n",
       "  <tbody>\n",
       "    <tr>\n",
       "      <th>MSFT</th>\n",
       "      <td>0.063054</td>\n",
       "      <td>0.032891</td>\n",
       "    </tr>\n",
       "    <tr>\n",
       "      <th>^GSPC</th>\n",
       "      <td>0.032891</td>\n",
       "      <td>0.030616</td>\n",
       "    </tr>\n",
       "  </tbody>\n",
       "</table>\n",
       "</div>"
      ],
      "text/plain": [
       "           MSFT     ^GSPC\n",
       "MSFT   0.063054  0.032891\n",
       "^GSPC  0.032891  0.030616"
      ]
     },
     "execution_count": 8,
     "metadata": {},
     "output_type": "execute_result"
    }
   ],
   "source": [
    "log_returns.cov() * 250"
   ]
  },
  {
   "cell_type": "code",
   "execution_count": 9,
   "metadata": {},
   "outputs": [
    {
     "data": {
      "text/html": [
       "<div>\n",
       "<style scoped>\n",
       "    .dataframe tbody tr th:only-of-type {\n",
       "        vertical-align: middle;\n",
       "    }\n",
       "\n",
       "    .dataframe tbody tr th {\n",
       "        vertical-align: top;\n",
       "    }\n",
       "\n",
       "    .dataframe thead th {\n",
       "        text-align: right;\n",
       "    }\n",
       "</style>\n",
       "<table border=\"1\" class=\"dataframe\">\n",
       "  <thead>\n",
       "    <tr style=\"text-align: right;\">\n",
       "      <th></th>\n",
       "      <th>MSFT</th>\n",
       "      <th>^GSPC</th>\n",
       "    </tr>\n",
       "  </thead>\n",
       "  <tbody>\n",
       "    <tr>\n",
       "      <th>MSFT</th>\n",
       "      <td>1.000000</td>\n",
       "      <td>0.748581</td>\n",
       "    </tr>\n",
       "    <tr>\n",
       "      <th>^GSPC</th>\n",
       "      <td>0.748581</td>\n",
       "      <td>1.000000</td>\n",
       "    </tr>\n",
       "  </tbody>\n",
       "</table>\n",
       "</div>"
      ],
      "text/plain": [
       "           MSFT     ^GSPC\n",
       "MSFT   1.000000  0.748581\n",
       "^GSPC  0.748581  1.000000"
      ]
     },
     "execution_count": 9,
     "metadata": {},
     "output_type": "execute_result"
    }
   ],
   "source": [
    "log_returns.corr()"
   ]
  },
  {
   "cell_type": "code",
   "execution_count": 10,
   "metadata": {},
   "outputs": [],
   "source": [
    "num_assets = len(assets)"
   ]
  },
  {
   "cell_type": "code",
   "execution_count": 11,
   "metadata": {},
   "outputs": [
    {
     "data": {
      "text/plain": [
       "2"
      ]
     },
     "execution_count": 11,
     "metadata": {},
     "output_type": "execute_result"
    }
   ],
   "source": [
    "num_assets"
   ]
  },
  {
   "cell_type": "code",
   "execution_count": 12,
   "metadata": {},
   "outputs": [
    {
     "data": {
      "text/plain": [
       "array([0.4633269, 0.5366731])"
      ]
     },
     "execution_count": 12,
     "metadata": {},
     "output_type": "execute_result"
    }
   ],
   "source": [
    "weights = np.random.random(num_assets) #any 2 numbers between 0 and 1 these are the weights of the 2 assets and should add upto 1\n",
    "weights /= np.sum(weights)\n",
    "weights"
   ]
  },
  {
   "cell_type": "code",
   "execution_count": 13,
   "metadata": {},
   "outputs": [
    {
     "data": {
      "text/plain": [
       "0.9999999999999999"
      ]
     },
     "execution_count": 13,
     "metadata": {},
     "output_type": "execute_result"
    }
   ],
   "source": [
    "weights[0] + weights[1]       #these 2 weights should add upto 1 and represent weight of stock and index respectively"
   ]
  },
  {
   "cell_type": "code",
   "execution_count": 14,
   "metadata": {},
   "outputs": [
    {
     "data": {
      "text/plain": [
       "0.15108063431321683"
      ]
     },
     "execution_count": 14,
     "metadata": {},
     "output_type": "execute_result"
    }
   ],
   "source": [
    "np.sum(weights *log_returns.mean()) * 250     #expected portfolio return using this portfolio combination"
   ]
  },
  {
   "cell_type": "code",
   "execution_count": 15,
   "metadata": {},
   "outputs": [
    {
     "data": {
      "text/plain": [
       "0.03871090249473347"
      ]
     },
     "execution_count": 15,
     "metadata": {},
     "output_type": "execute_result"
    }
   ],
   "source": [
    "np.dot(weights.T, np.dot(log_returns.cov() *250 , weights))        #expected portfolio variance"
   ]
  },
  {
   "cell_type": "code",
   "execution_count": 16,
   "metadata": {},
   "outputs": [
    {
     "data": {
      "text/plain": [
       "0.19675086402537975"
      ]
     },
     "execution_count": 16,
     "metadata": {},
     "output_type": "execute_result"
    }
   ],
   "source": [
    "np.sqrt(np.dot(weights.T, np.dot(log_returns.cov() *250 , weights)))  #expected portfolio volatility"
   ]
  },
  {
   "cell_type": "code",
   "execution_count": 17,
   "metadata": {},
   "outputs": [
    {
     "data": {
      "text/plain": [
       "(array([0.16049652, 0.16906745, 0.14913162, 0.18261296, 0.1851107 ,\n",
       "        0.12857399, 0.18249456, 0.15508343, 0.16167072, 0.18126499,\n",
       "        0.15332848, 0.14451892, 0.13881604, 0.13058055, 0.10572809,\n",
       "        0.16497638, 0.1246799 , 0.19928868, 0.13756361, 0.11609749,\n",
       "        0.15561365, 0.17166771, 0.14730029, 0.17006408, 0.13068693,\n",
       "        0.14475207, 0.15223955, 0.19729079, 0.14561987, 0.16418897,\n",
       "        0.11913464, 0.16565591, 0.16174286, 0.1305008 , 0.15068646,\n",
       "        0.16950549, 0.12256376, 0.13917216, 0.19187514, 0.14625255,\n",
       "        0.17474682, 0.13832785, 0.16178139, 0.18215318, 0.16023091,\n",
       "        0.10552943, 0.16391144, 0.12388112, 0.16062763, 0.13780308,\n",
       "        0.14510598, 0.11639697, 0.17589512, 0.15995627, 0.14850887,\n",
       "        0.15456925, 0.16869913, 0.18399286, 0.15092861, 0.13960601,\n",
       "        0.11230686, 0.16130904, 0.1519058 , 0.20215177, 0.1566015 ,\n",
       "        0.18496248, 0.14649754, 0.13287474, 0.14227337, 0.13239479,\n",
       "        0.19020818, 0.15255712, 0.17024116, 0.15115642, 0.17773534,\n",
       "        0.17729928, 0.12459517, 0.16931213, 0.19880173, 0.10855932,\n",
       "        0.16803341, 0.10684877, 0.1836355 , 0.19589358, 0.11826189,\n",
       "        0.16352537, 0.11312574, 0.10918549, 0.11580388, 0.13004193,\n",
       "        0.14936654, 0.14926409, 0.1123689 , 0.16672634, 0.1405851 ,\n",
       "        0.14039709, 0.20534593, 0.18292982, 0.19491283, 0.15484973,\n",
       "        0.17241926, 0.13714762, 0.19839994, 0.12154086, 0.19338615,\n",
       "        0.16239616, 0.16333055, 0.10386895, 0.17993015, 0.15184746,\n",
       "        0.15463442, 0.17060107, 0.15967183, 0.18699355, 0.15779947,\n",
       "        0.16755804, 0.16514024, 0.16978282, 0.17823891, 0.11794743,\n",
       "        0.14534485, 0.11407483, 0.15498284, 0.12885517, 0.19986411,\n",
       "        0.14898864, 0.18560568, 0.17028423, 0.1127547 , 0.13336975,\n",
       "        0.18704012, 0.19291717, 0.15017278, 0.19670473, 0.14286147,\n",
       "        0.10423341, 0.14529528, 0.14370747, 0.12105435, 0.14529575,\n",
       "        0.11774056, 0.18092759, 0.16349057, 0.14245795, 0.15857768,\n",
       "        0.14649312, 0.16510678, 0.15021185, 0.11029884, 0.19249753,\n",
       "        0.15286701, 0.15336172, 0.19873144, 0.13803598, 0.11770118,\n",
       "        0.17572731, 0.1393313 , 0.18676362, 0.16034079, 0.16620466,\n",
       "        0.17893327, 0.10800186, 0.20565347, 0.18782916, 0.11382444,\n",
       "        0.11457134, 0.16709032, 0.16019245, 0.17639215, 0.16234246,\n",
       "        0.15863289, 0.16523475, 0.16866715, 0.18095731, 0.18822833,\n",
       "        0.17037495, 0.19162733, 0.11039899, 0.11555446, 0.14955385,\n",
       "        0.13403952, 0.13357927, 0.14151154, 0.1638667 , 0.14689127,\n",
       "        0.15184665, 0.15043085, 0.12642465, 0.15852519, 0.14771257,\n",
       "        0.15106314, 0.20413267, 0.17823342, 0.11812371, 0.16269535,\n",
       "        0.15650935, 0.13835301, 0.15114321, 0.16284944, 0.1118449 ,\n",
       "        0.16375887, 0.11796489, 0.14812234, 0.18130054, 0.10648594,\n",
       "        0.20397766, 0.15299349, 0.19900537, 0.16555981, 0.14693771,\n",
       "        0.18715967, 0.16339138, 0.15077963, 0.16670196, 0.1252546 ,\n",
       "        0.11861147, 0.17681842, 0.1792184 , 0.17469407, 0.16524991,\n",
       "        0.13799741, 0.15941273, 0.16202953, 0.12151248, 0.15429457,\n",
       "        0.156892  , 0.11017211, 0.19369414, 0.1607389 , 0.17060291,\n",
       "        0.145252  , 0.19044282, 0.13285609, 0.11261282, 0.16008881,\n",
       "        0.14416965, 0.16632871, 0.17406606, 0.18666124, 0.18724671,\n",
       "        0.15674295, 0.13507265, 0.15366889, 0.12484229, 0.12516717,\n",
       "        0.16913339, 0.19201095, 0.17959891, 0.10567918, 0.18241354,\n",
       "        0.11474699, 0.11999644, 0.12452246, 0.12065435, 0.19601717,\n",
       "        0.15791112, 0.15216205, 0.16708891, 0.11600356, 0.15674618,\n",
       "        0.13277771, 0.13190443, 0.11458631, 0.13726379, 0.13871332,\n",
       "        0.13726594, 0.19418797, 0.15799711, 0.11740612, 0.11612594,\n",
       "        0.15089541, 0.1377423 , 0.15577101, 0.15526834, 0.19530033,\n",
       "        0.15644645, 0.15703238, 0.16366618, 0.16288362, 0.1509118 ,\n",
       "        0.11126471, 0.13628029, 0.18025393, 0.17121529, 0.15043663,\n",
       "        0.1923422 , 0.14563968, 0.13448362, 0.1149686 , 0.14305412,\n",
       "        0.13229693, 0.19907196, 0.11541974, 0.15687047, 0.19546392,\n",
       "        0.16067181, 0.17557727, 0.11618618, 0.14738898, 0.14682788,\n",
       "        0.15133663, 0.13146662, 0.18621646, 0.15177786, 0.18352327,\n",
       "        0.15800467, 0.16257382, 0.15157842, 0.13108594, 0.19890747,\n",
       "        0.159735  , 0.15848117, 0.18493409, 0.14272999, 0.13883905,\n",
       "        0.19069916, 0.14892551, 0.15751007, 0.15972686, 0.14688099,\n",
       "        0.16119487, 0.17102877, 0.15169718, 0.14533621, 0.17321778,\n",
       "        0.17920025, 0.19290746, 0.15487807, 0.17207039, 0.16838813,\n",
       "        0.17201263, 0.18578114, 0.11665673, 0.15886478, 0.1418216 ,\n",
       "        0.12139284, 0.16375758, 0.13959871, 0.16145931, 0.1635155 ,\n",
       "        0.14643759, 0.1483501 , 0.1999805 , 0.13254149, 0.133418  ,\n",
       "        0.13390758, 0.16186561, 0.14829994, 0.14638248, 0.19641684,\n",
       "        0.19335096, 0.17412873, 0.17800481, 0.16863719, 0.15302028,\n",
       "        0.10339594, 0.10917713, 0.16109363, 0.14123348, 0.13544743,\n",
       "        0.11287509, 0.15818318, 0.1411593 , 0.18351985, 0.12291292,\n",
       "        0.1235768 , 0.13728367, 0.18534484, 0.14164617, 0.10522882,\n",
       "        0.12640458, 0.15982982, 0.12884294, 0.14543818, 0.14072735,\n",
       "        0.17447953, 0.16921708, 0.11613648, 0.14215586, 0.19173479,\n",
       "        0.1460052 , 0.11776139, 0.1753667 , 0.13987825, 0.12502266,\n",
       "        0.17997247, 0.19188537, 0.12940113, 0.11734248, 0.19592568,\n",
       "        0.18603006, 0.13748997, 0.16598477, 0.16226995, 0.1470638 ,\n",
       "        0.20623508, 0.18786693, 0.18618062, 0.12239411, 0.13157945,\n",
       "        0.17485371, 0.14641605, 0.18632451, 0.17878475, 0.14491934,\n",
       "        0.16235299, 0.14848635, 0.1875331 , 0.14208384, 0.18470064,\n",
       "        0.1141923 , 0.15190298, 0.1566086 , 0.20098207, 0.13791953,\n",
       "        0.17368729, 0.1564824 , 0.15273863, 0.16728371, 0.10775106,\n",
       "        0.17740883, 0.1618803 , 0.17241146, 0.14129485, 0.1761188 ,\n",
       "        0.18766795, 0.10447148, 0.15420557, 0.11767522, 0.15082311,\n",
       "        0.18251524, 0.10743851, 0.19276191, 0.14658416, 0.20554008,\n",
       "        0.10334222, 0.14834607, 0.16368114, 0.13712996, 0.17546056,\n",
       "        0.11642889, 0.1544577 , 0.16651087, 0.16725258, 0.1521558 ,\n",
       "        0.18015315, 0.1518694 , 0.1548557 , 0.16443975, 0.16324657,\n",
       "        0.14013227, 0.1888665 , 0.18707942, 0.12730724, 0.17859103,\n",
       "        0.14191534, 0.13885892, 0.17266161, 0.14007671, 0.12186333,\n",
       "        0.16767774, 0.15772656, 0.12826074, 0.14325901, 0.13534029,\n",
       "        0.15687054, 0.12894996, 0.1426272 , 0.13078567, 0.1156065 ,\n",
       "        0.10451401, 0.16135989, 0.1954821 , 0.15510407, 0.15334331,\n",
       "        0.19475997, 0.17022482, 0.15713009, 0.19043879, 0.17721593,\n",
       "        0.17156909, 0.12107767, 0.13853116, 0.14449836, 0.16228231,\n",
       "        0.15868645, 0.18006166, 0.18599745, 0.10466637, 0.14772873,\n",
       "        0.17034122, 0.14363641, 0.11611835, 0.14505124, 0.13679064,\n",
       "        0.11858821, 0.18293896, 0.16046683, 0.16260525, 0.18291758,\n",
       "        0.15232276, 0.16217843, 0.19721538, 0.15611542, 0.12949588,\n",
       "        0.14975112, 0.16211192, 0.15294163, 0.13884598, 0.15771239,\n",
       "        0.16192192, 0.16450779, 0.17529467, 0.16509878, 0.14415856,\n",
       "        0.14202968, 0.19480634, 0.16045244, 0.1438289 , 0.1378235 ,\n",
       "        0.1538232 , 0.20089196, 0.13594023, 0.14712934, 0.16824147,\n",
       "        0.11342607, 0.18045487, 0.16736081, 0.15282947, 0.14884879,\n",
       "        0.13897893, 0.14501734, 0.19753064, 0.1228803 , 0.12946243,\n",
       "        0.16076938, 0.1751879 , 0.12450883, 0.14335609, 0.17276769,\n",
       "        0.16888342, 0.11141055, 0.17140455, 0.14175868, 0.11588466,\n",
       "        0.15044787, 0.15872839, 0.15349044, 0.18523466, 0.13303814,\n",
       "        0.2064637 , 0.11951343, 0.15312401, 0.11904107, 0.20355539,\n",
       "        0.1659901 , 0.1620965 , 0.1895923 , 0.14344105, 0.17214707,\n",
       "        0.18363935, 0.15238232, 0.17299417, 0.16255155, 0.15756206,\n",
       "        0.16265407, 0.17967271, 0.17814912, 0.13766415, 0.16729492,\n",
       "        0.12948409, 0.15753064, 0.12319396, 0.15662443, 0.15186994,\n",
       "        0.15108543, 0.10570211, 0.17305719, 0.19817087, 0.18111755,\n",
       "        0.12899845, 0.15567903, 0.16029622, 0.16485667, 0.14387585,\n",
       "        0.14826855, 0.19021369, 0.15224235, 0.13387069, 0.16391297,\n",
       "        0.20084286, 0.19549049, 0.14405864, 0.18145455, 0.19994333,\n",
       "        0.14836779, 0.1557752 , 0.12693647, 0.16805505, 0.14810821,\n",
       "        0.12648996, 0.18357568, 0.20505908, 0.13892901, 0.17055203,\n",
       "        0.14190199, 0.13909291, 0.10355626, 0.16009676, 0.12718597,\n",
       "        0.16210016, 0.15137069, 0.13910696, 0.16005026, 0.14597134,\n",
       "        0.17114363, 0.13249172, 0.1540787 , 0.16895421, 0.12106159,\n",
       "        0.20206089, 0.1677399 , 0.14926409, 0.1624988 , 0.18869197,\n",
       "        0.20358231, 0.15021829, 0.16964822, 0.12366452, 0.15424847,\n",
       "        0.18433846, 0.14310456, 0.11585908, 0.17484076, 0.14848655,\n",
       "        0.12856295, 0.19162866, 0.16363528, 0.12714964, 0.16183773,\n",
       "        0.14838715, 0.19456174, 0.16280626, 0.15591004, 0.16697195,\n",
       "        0.17276886, 0.17686367, 0.18704891, 0.15201964, 0.17204959,\n",
       "        0.16111161, 0.1772082 , 0.19326165, 0.13682081, 0.14220605,\n",
       "        0.15769683, 0.15250516, 0.15299063, 0.16551971, 0.18832437,\n",
       "        0.16851239, 0.14544939, 0.15127721, 0.11573186, 0.19173396,\n",
       "        0.14069602, 0.16096662, 0.18379833, 0.19325775, 0.13999525,\n",
       "        0.15115811, 0.15445129, 0.10723003, 0.16169313, 0.15524342,\n",
       "        0.14641772, 0.16528976, 0.19451264, 0.15312425, 0.18672446,\n",
       "        0.13916214, 0.16193201, 0.13406498, 0.20011848, 0.12677727,\n",
       "        0.16006652, 0.2031323 , 0.19171391, 0.15855118, 0.19929955,\n",
       "        0.15217022, 0.1609219 , 0.16467665, 0.14115417, 0.15539901,\n",
       "        0.17163235, 0.20648837, 0.12542067, 0.18679868, 0.17155634,\n",
       "        0.19392494, 0.1680437 , 0.14630571, 0.10359419, 0.13880475,\n",
       "        0.14259104, 0.15476251, 0.15033773, 0.11412376, 0.17873565,\n",
       "        0.14797686, 0.17390988, 0.12387133, 0.15602891, 0.16747043,\n",
       "        0.15997069, 0.13742177, 0.14392857, 0.1562399 , 0.19325689,\n",
       "        0.1094778 , 0.11417224, 0.14161083, 0.19969887, 0.10314479,\n",
       "        0.18060444, 0.18036307, 0.16721606, 0.15089527, 0.1071809 ,\n",
       "        0.14327937, 0.11030389, 0.13167736, 0.14567588, 0.17906836,\n",
       "        0.12559398, 0.13597214, 0.13603096, 0.12474443, 0.18654687,\n",
       "        0.11205286, 0.13636734, 0.14264064, 0.17093004, 0.15103458,\n",
       "        0.16930843, 0.12581195, 0.16058237, 0.17499762, 0.14237823,\n",
       "        0.19678913, 0.10759445, 0.11732506, 0.20565129, 0.15232004,\n",
       "        0.16151917, 0.20559215, 0.16355638, 0.20384396, 0.15982277,\n",
       "        0.15154974, 0.16057111, 0.13519816, 0.12925455, 0.16897786,\n",
       "        0.14194853, 0.12592298, 0.15599029, 0.15123987, 0.13964446,\n",
       "        0.18075226, 0.15897249, 0.14316172, 0.14705735, 0.14728511,\n",
       "        0.18294331, 0.11832762, 0.20200507, 0.13580235, 0.16176496,\n",
       "        0.12824765, 0.11158561, 0.13482336, 0.20663465, 0.10638614,\n",
       "        0.1797052 , 0.15701055, 0.11395519, 0.13812047, 0.14570437,\n",
       "        0.16714863, 0.11211753, 0.1671607 , 0.16032778, 0.13293201,\n",
       "        0.11326028, 0.16519008, 0.17703843, 0.1708723 , 0.12057827,\n",
       "        0.18919081, 0.19991585, 0.16780572, 0.15725231, 0.12952574,\n",
       "        0.13772413, 0.149966  , 0.16163286, 0.13651824, 0.13544339,\n",
       "        0.1125712 , 0.19967072, 0.13135214, 0.15524236, 0.18801182,\n",
       "        0.15586601, 0.13108365, 0.11811124, 0.16590768, 0.15159325,\n",
       "        0.15867825, 0.10421487, 0.17098136, 0.15824138, 0.1913638 ,\n",
       "        0.14122407, 0.15435571, 0.1319278 , 0.15061362, 0.17660732,\n",
       "        0.2056563 , 0.12099893, 0.16166063, 0.16160829, 0.20474199,\n",
       "        0.14099472, 0.1427001 , 0.15028622, 0.20543609, 0.1168798 ,\n",
       "        0.15352651, 0.17959821, 0.13122473, 0.18193955, 0.13873812,\n",
       "        0.16275693, 0.15322436, 0.13452671, 0.2027619 , 0.17304786,\n",
       "        0.13234194, 0.10503279, 0.1874545 , 0.1255966 , 0.15794265,\n",
       "        0.18250109, 0.15109585, 0.1506872 , 0.13041082, 0.14318313,\n",
       "        0.14869161, 0.1764057 , 0.1617301 , 0.19997712, 0.15072267,\n",
       "        0.12565366, 0.18330067, 0.13891731, 0.16531457, 0.15630129,\n",
       "        0.15556168, 0.13429435, 0.14660422, 0.14801705, 0.1804199 ,\n",
       "        0.13532927, 0.14094906, 0.17100168, 0.10951058, 0.20174836,\n",
       "        0.16208055, 0.13727708, 0.1725604 , 0.18178064, 0.14540974,\n",
       "        0.16446116, 0.11514779, 0.121924  , 0.15545678, 0.15983901,\n",
       "        0.15479904, 0.12155688, 0.14330982, 0.15423697, 0.16414318,\n",
       "        0.18678286, 0.11366075, 0.12945937, 0.20500325, 0.20637285,\n",
       "        0.15813557, 0.19159413, 0.17506856, 0.12849986, 0.11268344,\n",
       "        0.15658157, 0.16212035, 0.17916314, 0.16229608, 0.15146916,\n",
       "        0.17062086, 0.1533495 , 0.15168502, 0.18100027, 0.18079317,\n",
       "        0.11592715, 0.18839768, 0.18444778, 0.13689252, 0.10640969,\n",
       "        0.19192704, 0.18502404, 0.15391507, 0.1709285 , 0.20571783,\n",
       "        0.14250042, 0.13536859, 0.13422864, 0.19736869, 0.16275766,\n",
       "        0.15581462, 0.13643208, 0.11108359, 0.17711335, 0.13840875,\n",
       "        0.13698219, 0.14506785, 0.14980324, 0.15574847, 0.11312393,\n",
       "        0.13920225, 0.15245068, 0.15030561, 0.12409492, 0.15263298,\n",
       "        0.18644641, 0.16940669, 0.15900863, 0.14505306, 0.1672672 ,\n",
       "        0.11081443, 0.16020208, 0.13245371, 0.19634153, 0.16126582,\n",
       "        0.13369801, 0.18753292, 0.13972719, 0.14229357, 0.12409017,\n",
       "        0.15414959, 0.17178038, 0.13723828, 0.14128889, 0.17160745,\n",
       "        0.12985303, 0.16399971, 0.16141111, 0.17579025, 0.13066455,\n",
       "        0.15614866, 0.11661399, 0.17016347, 0.12692251, 0.15697118,\n",
       "        0.14941057, 0.14257146, 0.17942414, 0.12641699, 0.14262025,\n",
       "        0.14198437, 0.19543507, 0.18218249, 0.15988131, 0.14954872,\n",
       "        0.12483001, 0.11509159, 0.17660926, 0.16153241, 0.14737892,\n",
       "        0.14181029, 0.14025394, 0.15772577, 0.1228363 , 0.15150002,\n",
       "        0.16291393, 0.11272619, 0.17659436, 0.18160632, 0.16206194]),\n",
       " array([0.20421613, 0.21173025, 0.1953174 , 0.22482876, 0.22739077,\n",
       "        0.18282154, 0.22470837, 0.1998176 , 0.2052068 , 0.22346404,\n",
       "        0.19845304, 0.19208713, 0.18842293, 0.18381556, 0.17535762,\n",
       "        0.20806298, 0.18104194, 0.24268857, 0.18766898, 0.17784095,\n",
       "        0.2002359 , 0.21413411, 0.19400724, 0.21264504, 0.18386969,\n",
       "        0.1922448 , 0.19762199, 0.24046027, 0.19283698, 0.20737378,\n",
       "        0.17885791, 0.20866214, 0.20526808, 0.18377507, 0.19645775,\n",
       "        0.21213131, 0.18015926, 0.18864071, 0.23453608, 0.19327396,\n",
       "        0.21705096, 0.18812683, 0.20530083, 0.22436183, 0.2039938 ,\n",
       "        0.17532527, 0.20713217, 0.18070169, 0.20432611, 0.18781169,\n",
       "        0.1924853 , 0.1779355 , 0.21815769, 0.20376461, 0.19486785,\n",
       "        0.19941461, 0.21139426, 0.22623889, 0.19663762, 0.18890804,\n",
       "        0.1767539 , 0.2049003 , 0.19736969, 0.24592023, 0.20102262,\n",
       "        0.22723756, 0.19344434, 0.18501484, 0.19059979, 0.18475846,\n",
       "        0.23274818, 0.1978631 , 0.21280844, 0.1968074 , 0.21995218,\n",
       "        0.21952466, 0.18100544, 0.21195407, 0.2421434 , 0.17588149,\n",
       "        0.21078986, 0.17555098, 0.22587244, 0.23891537, 0.17855252,\n",
       "        0.20679722, 0.17697143, 0.17601313, 0.17774948, 0.18354366,\n",
       "        0.19548806, 0.19541357, 0.17677005, 0.20961411, 0.18951944,\n",
       "        0.18940116, 0.24957696, 0.22515139, 0.23783771, 0.1996341 ,\n",
       "        0.21483913, 0.1874227 , 0.24169457, 0.17975426, 0.23617146,\n",
       "        0.20582518, 0.20662869, 0.17507752, 0.22212531, 0.19732571,\n",
       "        0.19946554, 0.21314134, 0.20352798, 0.22934991, 0.20198941,\n",
       "        0.21036057, 0.20820709, 0.21238605, 0.22044765, 0.17844508,\n",
       "        0.1926484 , 0.17723551, 0.19973855, 0.18295771, 0.2433345 ,\n",
       "        0.19521382, 0.22790353, 0.21284823, 0.17687168, 0.18528227,\n",
       "        0.22939867, 0.2356624 , 0.1960782 , 0.23981089, 0.1909838 ,\n",
       "        0.17512842, 0.19261451, 0.1915431 , 0.17956663, 0.19261483,\n",
       "        0.17837515, 0.22312445, 0.20676709, 0.19071989, 0.20262485,\n",
       "        0.19344126, 0.20817765, 0.19610696, 0.17626122, 0.23520802,\n",
       "        0.19809938, 0.1984786 , 0.24206482, 0.18795115, 0.1783619 ,\n",
       "        0.21799533, 0.18873851, 0.22910941, 0.2040857 , 0.20914893,\n",
       "        0.22113391, 0.17576909, 0.24993181, 0.23022686, 0.1771646 ,\n",
       "        0.17737877, 0.20994006, 0.20396166, 0.21863985, 0.20577923,\n",
       "        0.20267014, 0.20829032, 0.21136513, 0.22315433, 0.23064737,\n",
       "        0.21293206, 0.23426921, 0.17628442, 0.17767273, 0.19562456,\n",
       "        0.18564897, 0.18539639, 0.19010822, 0.20709329, 0.19371956,\n",
       "        0.1973251 , 0.19626853, 0.18181464, 0.2025818 , 0.19429905,\n",
       "        0.19673782, 0.24818175, 0.22044223, 0.17850514, 0.20608161,\n",
       "        0.20094882, 0.18814202, 0.19679755, 0.20621398, 0.17663542,\n",
       "        0.20699964, 0.17845101, 0.1945909 , 0.22349986, 0.17548636,\n",
       "        0.24800404, 0.1981961 , 0.24237123, 0.20857716, 0.19375212,\n",
       "        0.22952389, 0.20668127, 0.19652688, 0.20959232, 0.181292  ,\n",
       "        0.17867358, 0.21905486, 0.22141673, 0.21700037, 0.20830367,\n",
       "        0.18792801, 0.20331309, 0.20551205, 0.17974323, 0.19920041,\n",
       "        0.20125578, 0.17623208, 0.23650649, 0.20441958, 0.21314305,\n",
       "        0.19258493, 0.2329988 , 0.18500482, 0.17683405, 0.20387513,\n",
       "        0.19185205, 0.20925933, 0.21639966, 0.22900243, 0.22961511,\n",
       "        0.20113605, 0.18622547, 0.19871531, 0.18111215, 0.18125367,\n",
       "        0.21179052, 0.23468251, 0.22179509, 0.1753496 , 0.22462605,\n",
       "        0.17743029, 0.17916981, 0.1809742 , 0.17941479, 0.23905158,\n",
       "        0.20208022, 0.19756329, 0.20993879, 0.17781156, 0.20113864,\n",
       "        0.18496278, 0.18449952, 0.17738314, 0.18749127, 0.18836039,\n",
       "        0.18749254, 0.23704486, 0.20215025, 0.17826335, 0.17784988,\n",
       "        0.19661292, 0.18777541, 0.20036058, 0.19996316, 0.23826283,\n",
       "        0.2008985 , 0.20136875, 0.20691923, 0.20624338, 0.19662512,\n",
       "        0.17649096, 0.18691591, 0.22244886, 0.2137119 , 0.1962728 ,\n",
       "        0.2350401 , 0.1928506 , 0.18589517, 0.17749591, 0.19111045,\n",
       "        0.18470654, 0.24244578, 0.17763164, 0.20123848, 0.23844257,\n",
       "        0.20436321, 0.21785034, 0.17786882, 0.19406986, 0.19367513,\n",
       "        0.1969421 , 0.18427087, 0.22853848, 0.19727329, 0.22575754,\n",
       "        0.2021564 , 0.20597734, 0.19712333, 0.18407403, 0.24226167,\n",
       "        0.20358046, 0.20254573, 0.22720822, 0.19089761, 0.18843695,\n",
       "        0.23327299, 0.19516816, 0.20175459, 0.2035737 , 0.19371235,\n",
       "        0.20480379, 0.21353831, 0.19721258, 0.1926425 , 0.21559315,\n",
       "        0.22139871, 0.23565187, 0.19965633, 0.2145113 , 0.21111144,\n",
       "        0.21445711, 0.22808567, 0.17801853, 0.20286073, 0.19030749,\n",
       "        0.17969683, 0.20699852, 0.18890352, 0.2050275 , 0.20678867,\n",
       "        0.19340259, 0.19475389, 0.24346537, 0.18483652, 0.18530851,\n",
       "        0.18557629, 0.20537246, 0.19471795, 0.19336424, 0.23949263,\n",
       "        0.23613321, 0.21645946, 0.22021708, 0.21133786, 0.1982166 ,\n",
       "        0.17501438, 0.17601133, 0.20471832, 0.18993046, 0.18643784,\n",
       "        0.17690383, 0.202302  , 0.18988319, 0.22575404, 0.18030075,\n",
       "        0.18057431, 0.18750302, 0.22763311, 0.19019461, 0.17527741,\n",
       "        0.18180552, 0.20365932, 0.18295177, 0.1927123 , 0.18960919,\n",
       "        0.21679481, 0.21186706, 0.17785319, 0.19052354, 0.23438489,\n",
       "        0.19310259, 0.17838216, 0.21764715, 0.18907692, 0.18119055,\n",
       "        0.22216756, 0.23454711, 0.18322503, 0.17824226, 0.23895074,\n",
       "        0.22834444, 0.18762523, 0.20895355, 0.20571725, 0.19384068,\n",
       "        0.2506042 , 0.23026661, 0.22850116, 0.18009111, 0.18432956,\n",
       "        0.21715356, 0.1933876 , 0.22865107, 0.22098683, 0.19235829,\n",
       "        0.20578824, 0.19485167, 0.22991563, 0.19047688, 0.22696725,\n",
       "        0.17726909, 0.19736757, 0.20102831, 0.24459458, 0.18788135,\n",
       "        0.21603883, 0.20092726, 0.19800138, 0.2101137 , 0.17572   ,\n",
       "        0.21963193, 0.20538496, 0.21483178, 0.18996961, 0.21837445,\n",
       "        0.23005732, 0.17516273, 0.19913116, 0.17835318, 0.19655918,\n",
       "        0.22472939, 0.1756601 , 0.23549416, 0.19350474, 0.24980092,\n",
       "        0.17500741, 0.19475101, 0.2069322 , 0.1874123 , 0.21773768,\n",
       "        0.17794565, 0.19932752, 0.20942169, 0.21008573, 0.19755857,\n",
       "        0.22234808, 0.19734225, 0.19963878, 0.20759269, 0.20655615,\n",
       "        0.18923527, 0.23132181, 0.22943981, 0.18222081, 0.22079522,\n",
       "        0.19036794, 0.18844907, 0.21506744, 0.18920057, 0.1798804 ,\n",
       "        0.21046848, 0.20193018, 0.18267105, 0.19124561, 0.18637695,\n",
       "        0.20123853, 0.18300385, 0.19083036, 0.18392007, 0.17768867,\n",
       "        0.17516895, 0.20494332, 0.23846255, 0.19983382, 0.19846444,\n",
       "        0.23767025, 0.21279335, 0.2014475 , 0.23299449, 0.21944311,\n",
       "        0.21404193, 0.17957555, 0.1882498 , 0.19207325, 0.20572782,\n",
       "        0.20271412, 0.22225664, 0.22831052, 0.17519143, 0.19431053,\n",
       "        0.21290089, 0.19149581, 0.17784749, 0.19244801, 0.18721302,\n",
       "        0.17866547, 0.22516071, 0.20419124, 0.20600429, 0.22513891,\n",
       "        0.19768506, 0.20563908, 0.24037661, 0.20063431, 0.18327181,\n",
       "        0.1957687 , 0.20558232, 0.19815642, 0.18844118, 0.20191867,\n",
       "        0.20542039, 0.20765218, 0.21757772, 0.20817061, 0.19184462,\n",
       "        0.19044183, 0.23772104, 0.20417918, 0.19162404, 0.1878239 ,\n",
       "        0.19883458, 0.24449278, 0.1867197 , 0.19388678, 0.21097835,\n",
       "        0.17705361, 0.22265004, 0.21018301, 0.1980707 , 0.19511272,\n",
       "        0.18852236, 0.19242493, 0.24072659, 0.18028746, 0.18325528,\n",
       "        0.2044452 , 0.21747488, 0.18096835, 0.19130982, 0.21516752,\n",
       "        0.21156222, 0.17652682, 0.21388832, 0.19026696, 0.17777453,\n",
       "        0.19628111, 0.20274857, 0.19857768, 0.22751903, 0.18510278,\n",
       "        0.25086898, 0.17899374, 0.19829607, 0.17882467, 0.24752057,\n",
       "        0.20895829, 0.20556916, 0.23209201, 0.1913661 , 0.21458327,\n",
       "        0.22587638, 0.19773025, 0.21538149, 0.20595825, 0.20179672,\n",
       "        0.20604618, 0.22186859, 0.22035916, 0.18772882, 0.21012377,\n",
       "        0.18326598, 0.20177126, 0.18041583, 0.201041  , 0.19734266,\n",
       "        0.19675444, 0.17535336, 0.2154411 , 0.24143909, 0.22331554,\n",
       "        0.18302749, 0.20028767, 0.20404841, 0.20795785, 0.19165538,\n",
       "        0.19469547, 0.23275407, 0.1976241 , 0.18555601, 0.2071335 ,\n",
       "        0.24443731, 0.23847177, 0.19177763, 0.22365518, 0.24342356,\n",
       "        0.19476658, 0.20036391, 0.18204893, 0.21080945, 0.1945808 ,\n",
       "        0.18184434, 0.22581119, 0.24924641, 0.18849185, 0.21309591,\n",
       "        0.19035933, 0.18859212, 0.17503541, 0.20388176, 0.18216439,\n",
       "        0.20557228, 0.19696759, 0.18860072, 0.20384296, 0.19307919,\n",
       "        0.21364517, 0.18481001, 0.1990326 , 0.21162682, 0.1795694 ,\n",
       "        0.24581697, 0.21052457, 0.19541357, 0.20591306, 0.2311371 ,\n",
       "        0.24755137, 0.19611171, 0.21226232, 0.1806109 , 0.19916453,\n",
       "        0.22659411, 0.19114369, 0.17776659, 0.21714113, 0.19485181,\n",
       "        0.18281622, 0.23427064, 0.20689244, 0.18214753, 0.20534873,\n",
       "        0.19478046, 0.2374533 , 0.20617687, 0.20047094, 0.20983393,\n",
       "        0.21516862, 0.219099  , 0.22940787, 0.19745562, 0.21449178,\n",
       "        0.20473349, 0.21943554, 0.23603619, 0.18723068, 0.19055608,\n",
       "        0.20190604, 0.19782358, 0.1981939 , 0.20854173, 0.2307487 ,\n",
       "        0.21122434, 0.19271999, 0.19689765, 0.17772723, 0.234384  ,\n",
       "        0.18958941, 0.20461122, 0.2260393 , 0.23603196, 0.18914976,\n",
       "        0.19680867, 0.19932253, 0.17562095, 0.20522583, 0.19994352,\n",
       "        0.19338876, 0.2083388 , 0.2373996 , 0.19829626, 0.22906848,\n",
       "        0.18863456, 0.20542897, 0.18566302, 0.24362061, 0.18197569,\n",
       "        0.20385653, 0.24703709, 0.23436241, 0.20260311, 0.24270076,\n",
       "        0.19756948, 0.20457355, 0.20779999, 0.18987992, 0.20006623,\n",
       "        0.21410105, 0.25089757, 0.18136507, 0.22914606, 0.21403003,\n",
       "        0.23675793, 0.21079917, 0.19331087, 0.17504044, 0.18841605,\n",
       "        0.19080673, 0.19956576, 0.19619977, 0.17724948, 0.22093823,\n",
       "        0.19448708, 0.21625075, 0.18069758, 0.20056545, 0.21028165,\n",
       "        0.20377662, 0.18758477, 0.1916906 , 0.20073354, 0.23603102,\n",
       "        0.17607653, 0.17726334, 0.19017191, 0.24314882, 0.17498219,\n",
       "        0.22279997, 0.2225581 , 0.21005292, 0.19661282, 0.17561181,\n",
       "        0.19125907, 0.17626239, 0.18438062, 0.19287549, 0.22126783,\n",
       "        0.18144173, 0.18673805, 0.18677191, 0.18106979, 0.22888301,\n",
       "        0.17668838, 0.18696637, 0.19083915, 0.21344654, 0.19671654,\n",
       "        0.21195068, 0.1815387 , 0.20428813, 0.21729183, 0.19066798,\n",
       "        0.23990429, 0.17568981, 0.17823649, 0.2499293 , 0.197683  ,\n",
       "        0.20507823, 0.24986102, 0.20682407, 0.24785087, 0.20365345,\n",
       "        0.1971018 , 0.20427868, 0.1862964 , 0.18315288, 0.21164841,\n",
       "        0.19038937, 0.18158833, 0.20053473, 0.19686973, 0.18893184,\n",
       "        0.22294831, 0.20294942, 0.19118138, 0.19383615, 0.19399653,\n",
       "        0.22516514, 0.17857516, 0.24575357, 0.18664054, 0.20528686,\n",
       "        0.18266479, 0.17657026, 0.18608516, 0.25106713, 0.17546893,\n",
       "        0.22190096, 0.20135117, 0.17720152, 0.1880019 , 0.19289509,\n",
       "        0.20999238, 0.17670497, 0.21000321, 0.20407481, 0.18504562,\n",
       "        0.17700808, 0.20825097, 0.2192696 , 0.21339291, 0.17938615,\n",
       "        0.23166555, 0.24339267, 0.210584  , 0.20154612, 0.18328658,\n",
       "        0.18776457, 0.19592619, 0.20517466, 0.18705405, 0.18643554,\n",
       "        0.17682307, 0.24311721, 0.18421148, 0.19994269, 0.23041916,\n",
       "        0.20043597, 0.18407285, 0.17850088, 0.20888516, 0.19713447,\n",
       "        0.20270738, 0.17512579, 0.21349423, 0.20234954, 0.23398581,\n",
       "        0.18992446, 0.19924802, 0.18451179, 0.19640376, 0.21884917,\n",
       "        0.24993508, 0.17954546, 0.20519824, 0.20515381, 0.24888151,\n",
       "        0.18977854, 0.19087804, 0.19616178, 0.24968093, 0.17809058,\n",
       "        0.19860547, 0.2217944 , 0.18414559, 0.22414538, 0.18837548,\n",
       "        0.20613449, 0.19837306, 0.18591919, 0.24661459, 0.21543227,\n",
       "        0.18473041, 0.17524692, 0.2298331 , 0.18144289, 0.20210589,\n",
       "        0.22471501, 0.19676221, 0.1964583 , 0.18372947, 0.1911955 ,\n",
       "        0.19499934, 0.21865302, 0.20525723, 0.24346156, 0.19648461,\n",
       "        0.18146821, 0.22552989, 0.18848471, 0.20836067, 0.20078252,\n",
       "        0.20019477, 0.18578995, 0.19351875, 0.19451573, 0.222615  ,\n",
       "        0.1863707 , 0.18974956, 0.21351313, 0.17608371, 0.24546221,\n",
       "        0.20555556, 0.18749913, 0.21497203, 0.22398459, 0.19269283,\n",
       "        0.2076114 , 0.17754948, 0.1799043 , 0.20011185, 0.20366696,\n",
       "        0.19959438, 0.1797605 , 0.1912792 , 0.19915558, 0.20733387,\n",
       "        0.22912952, 0.17711872, 0.18325376, 0.24918213, 0.25076373,\n",
       "        0.20226314, 0.23423349, 0.21736004, 0.18278581, 0.17685274,\n",
       "        0.20100665, 0.20558951, 0.22136187, 0.20573958, 0.19704136,\n",
       "        0.21315967, 0.1984692 , 0.19720343, 0.22319754, 0.22298939,\n",
       "        0.17778774, 0.23082609, 0.22670664, 0.1872727 , 0.17547303,\n",
       "        0.23459202, 0.22730117, 0.19890571, 0.21344511, 0.25000613,\n",
       "        0.19074758, 0.18639302, 0.18575352, 0.24054673, 0.20613511,\n",
       "        0.20039517, 0.18700395, 0.17644686, 0.2193428 , 0.1881757 ,\n",
       "        0.18732534, 0.19245932, 0.19580686, 0.20034271, 0.17697093,\n",
       "        0.18865918, 0.19778217, 0.19617607, 0.18079192, 0.19792085,\n",
       "        0.22877817, 0.21204071, 0.20297921, 0.19244925, 0.21009886,\n",
       "        0.17638219, 0.20396971, 0.18478978, 0.23940945, 0.20486375,\n",
       "        0.1854613 , 0.22991544, 0.1889831 , 0.19061292, 0.18078991,\n",
       "        0.19908765, 0.21423951, 0.1874762 , 0.18996581, 0.21407778,\n",
       "        0.18344919, 0.20720895, 0.20498667, 0.2180562 , 0.18385829,\n",
       "        0.20066079, 0.1780048 , 0.21273672, 0.18204249, 0.20131948,\n",
       "        0.19552012, 0.19079394, 0.22162118, 0.18181116, 0.19082582,\n",
       "        0.19041253, 0.23841086, 0.22439155, 0.20370217, 0.19562081,\n",
       "        0.18110683, 0.17753263, 0.21885106, 0.20508945, 0.19406275,\n",
       "        0.19030019, 0.18931139, 0.20192954, 0.18026956, 0.1970645 ,\n",
       "        0.20626945, 0.17686409, 0.21883655, 0.2238084 , 0.20553968]))"
      ]
     },
     "execution_count": 17,
     "metadata": {},
     "output_type": "execute_result"
    }
   ],
   "source": [
    "port_returns = []\n",
    "port_volatility = []\n",
    "for x in range(1000):          #1000 combinations of different weights of stock and index are tried\n",
    "    weights = np.random.random(num_assets) #any 2 numbers between 0 and 1 these are the weights of the 2 assets and should add upto 1\n",
    "    weights /= np.sum(weights)\n",
    "    port_returns.append(np.sum(weights *log_returns.mean()) * 250)\n",
    "    port_volatility.append(np.sqrt(np.dot(weights.T, np.dot(log_returns.cov() *250 , weights))))\n",
    "port_returns = np.array(port_returns)\n",
    "port_volatility = np.array(port_volatility)    \n",
    "port_returns, port_volatility    "
   ]
  },
  {
   "cell_type": "code",
   "execution_count": 18,
   "metadata": {},
   "outputs": [],
   "source": [
    "portfolio = pd.DataFrame({'Return':port_returns , 'Volatility': port_volatility})"
   ]
  },
  {
   "cell_type": "code",
   "execution_count": 19,
   "metadata": {},
   "outputs": [
    {
     "data": {
      "text/html": [
       "<div>\n",
       "<style scoped>\n",
       "    .dataframe tbody tr th:only-of-type {\n",
       "        vertical-align: middle;\n",
       "    }\n",
       "\n",
       "    .dataframe tbody tr th {\n",
       "        vertical-align: top;\n",
       "    }\n",
       "\n",
       "    .dataframe thead th {\n",
       "        text-align: right;\n",
       "    }\n",
       "</style>\n",
       "<table border=\"1\" class=\"dataframe\">\n",
       "  <thead>\n",
       "    <tr style=\"text-align: right;\">\n",
       "      <th></th>\n",
       "      <th>Return</th>\n",
       "      <th>Volatility</th>\n",
       "    </tr>\n",
       "  </thead>\n",
       "  <tbody>\n",
       "    <tr>\n",
       "      <th>0</th>\n",
       "      <td>0.160497</td>\n",
       "      <td>0.204216</td>\n",
       "    </tr>\n",
       "    <tr>\n",
       "      <th>1</th>\n",
       "      <td>0.169067</td>\n",
       "      <td>0.211730</td>\n",
       "    </tr>\n",
       "    <tr>\n",
       "      <th>2</th>\n",
       "      <td>0.149132</td>\n",
       "      <td>0.195317</td>\n",
       "    </tr>\n",
       "    <tr>\n",
       "      <th>3</th>\n",
       "      <td>0.182613</td>\n",
       "      <td>0.224829</td>\n",
       "    </tr>\n",
       "    <tr>\n",
       "      <th>4</th>\n",
       "      <td>0.185111</td>\n",
       "      <td>0.227391</td>\n",
       "    </tr>\n",
       "  </tbody>\n",
       "</table>\n",
       "</div>"
      ],
      "text/plain": [
       "     Return  Volatility\n",
       "0  0.160497    0.204216\n",
       "1  0.169067    0.211730\n",
       "2  0.149132    0.195317\n",
       "3  0.182613    0.224829\n",
       "4  0.185111    0.227391"
      ]
     },
     "execution_count": 19,
     "metadata": {},
     "output_type": "execute_result"
    }
   ],
   "source": [
    "portfolio.head()      #now we shall plot a graph for different risk vs different returns for the above combinations"
   ]
  },
  {
   "cell_type": "code",
   "execution_count": 20,
   "metadata": {},
   "outputs": [
    {
     "data": {
      "text/plain": [
       "Text(0, 0.5, 'Expected Returns')"
      ]
     },
     "execution_count": 20,
     "metadata": {},
     "output_type": "execute_result"
    },
    {
     "data": {
      "image/png": "[encoded data removed]",
      "text/plain": [
       "<Figure size 720x432 with 1 Axes>"
      ]
     },
     "metadata": {
      "needs_background": "light"
     },
     "output_type": "display_data"
    }
   ],
   "source": [
    "portfolio.plot(x = 'Volatility', y = 'Return', kind = 'scatter' , figsize=(10,6)) ;\n",
    "plt.xlabel('Expected Volatility')\n",
    "plt.ylabel('Expected Returns')"
   ]
  },
  {
   "cell_type": "code",
   "execution_count": 21,
   "metadata": {},
   "outputs": [],
   "source": [
    "#clearly as expected volatility/risk increases expected returns also increases"
   ]
  },
  {
   "cell_type": "code",
   "execution_count": null,
   "metadata": {},
   "outputs": [],
   "source": []
  }
 ],
 "metadata": {
  "kernelspec": {
   "display_name": "Python 3",
   "language": "python",
   "name": "python3"
  },
  "language_info": {
   "codemirror_mode": {
    "name": "ipython",
    "version": 3
   },
   "file_extension": ".py",
   "mimetype": "text/x-python",
   "name": "python",
   "nbconvert_exporter": "python",
   "pygments_lexer": "ipython3",
   "version": "3.7.6"
  }
 },
 "nbformat": 4,
 "nbformat_minor": 4
}
